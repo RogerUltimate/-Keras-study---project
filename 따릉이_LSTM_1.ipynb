{
  "nbformat": 4,
  "nbformat_minor": 0,
  "metadata": {
    "colab": {
      "name": "따릉이 LSTM_1.ipynb",
      "provenance": [],
      "collapsed_sections": [],
      "include_colab_link": true
    },
    "kernelspec": {
      "name": "python3",
      "display_name": "Python 3"
    },
    "language_info": {
      "name": "python"
    }
  },
  "cells": [
    {
      "cell_type": "markdown",
      "metadata": {
        "id": "view-in-github",
        "colab_type": "text"
      },
      "source": [
        "<a href=\"https://colab.research.google.com/github/RogerUltimate/-Keras-study---project/blob/main/%EB%94%B0%EB%A6%89%EC%9D%B4_LSTM_1.ipynb\" target=\"_parent\"><img src=\"https://colab.research.google.com/assets/colab-badge.svg\" alt=\"Open In Colab\"/></a>"
      ]
    },
    {
      "cell_type": "code",
      "metadata": {
        "id": "oiduzHytABaY"
      },
      "source": [
        "import pandas as pd\n",
        "import numpy as np\n",
        "import matplotlib.pyplot as plt\n",
        "import tensorflow as tf\n",
        "from tensorflow.keras.models import Sequential\n",
        "from tensorflow.keras.layers import LSTM, Dense, Dropout, GRU\n",
        "from sklearn.preprocessing import MinMaxScaler, StandardScaler\n",
        "from tensorflow.keras.callbacks import EarlyStopping"
      ],
      "execution_count": null,
      "outputs": []
    },
    {
      "cell_type": "code",
      "metadata": {
        "id": "_2atunAzh9KD",
        "colab": {
          "base_uri": "https://localhost:8080/"
        },
        "outputId": "3d9733b9-1e66-4acd-bc95-cd97d54c036c"
      },
      "source": [
        "!curl -O https://raw.githubusercontent.com/RogerUltimate/-Keras-study---project/main/train.csv\n",
        "!curl -O https://raw.githubusercontent.com/RogerUltimate/-Keras-study---project/main/test.csv\n",
        "!curl -O https://raw.githubusercontent.com/RogerUltimate/-Keras-study---project/main/submission.csv\n",
        "train = pd.read_csv('train.csv')\n",
        "test = pd.read_csv('test.csv')\n",
        "submission = pd.read_csv('submission.csv')"
      ],
      "execution_count": null,
      "outputs": [
        {
          "output_type": "stream",
          "text": [
            "  % Total    % Received % Xferd  Average Speed   Time    Time     Time  Current\n",
            "                                 Dload  Upload   Total   Spent    Left  Speed\n",
            "100 80667  100 80667    0     0   363k      0 --:--:-- --:--:-- --:--:--  363k\n",
            "  % Total    % Received % Xferd  Average Speed   Time    Time     Time  Current\n",
            "                                 Dload  Upload   Total   Spent    Left  Speed\n",
            "100 35719  100 35719    0     0   113k      0 --:--:-- --:--:-- --:--:--  113k\n",
            "  % Total    % Received % Xferd  Average Speed   Time    Time     Time  Current\n",
            "                                 Dload  Upload   Total   Spent    Left  Speed\n",
            "100  4631  100  4631    0     0  20311      0 --:--:-- --:--:-- --:--:-- 20311\n"
          ],
          "name": "stdout"
        }
      ]
    },
    {
      "cell_type": "markdown",
      "metadata": {
        "id": "w-eOhTqjpqBQ"
      },
      "source": [
        "# train 데이터 준비"
      ]
    },
    {
      "cell_type": "code",
      "metadata": {
        "id": "wZI4oxYCrgxJ"
      },
      "source": [
        "# 결측치를 보간법으로 제거\n",
        "train.interpolate(inplace=True)\n",
        "test.interpolate(inplace=True)"
      ],
      "execution_count": null,
      "outputs": []
    },
    {
      "cell_type": "code",
      "metadata": {
        "id": "xvaByW-pqSDP",
        "colab": {
          "base_uri": "https://localhost:8080/"
        },
        "outputId": "5e25e843-8c07-4278-9893-6bf52ec5f755"
      },
      "source": [
        "X_train = train.drop(['id', 'count'], axis='columns')  \n",
        "y_train = train['count']                           \n",
        "print(X_train.shape, y_train.shape)"
      ],
      "execution_count": null,
      "outputs": [
        {
          "output_type": "stream",
          "text": [
            "(1459, 9) (1459,)\n"
          ],
          "name": "stdout"
        }
      ]
    },
    {
      "cell_type": "code",
      "metadata": {
        "id": "XRtUa-Uwikq7"
      },
      "source": [
        "X_train = np.expand_dims(X_train, -1)"
      ],
      "execution_count": null,
      "outputs": []
    },
    {
      "cell_type": "code",
      "metadata": {
        "id": "MlTNewN4iktq",
        "colab": {
          "base_uri": "https://localhost:8080/"
        },
        "outputId": "cb415440-effe-4ff7-f694-523e0d9c2d94"
      },
      "source": [
        "X_train.shape"
      ],
      "execution_count": null,
      "outputs": [
        {
          "output_type": "execute_result",
          "data": {
            "text/plain": [
              "(1459, 9, 1)"
            ]
          },
          "metadata": {
            "tags": []
          },
          "execution_count": 121
        }
      ]
    },
    {
      "cell_type": "code",
      "metadata": {
        "colab": {
          "base_uri": "https://localhost:8080/"
        },
        "id": "Um-8jWiMCB7Z",
        "outputId": "c7a32282-482f-46cf-88a3-14203dab3278"
      },
      "source": [
        "model = Sequential()\n",
        "model.add(GRU(16, input_shape=(9,1)))\n",
        "model.add(Dense(1, activation='linear'))\n",
        "\n",
        "model.compile(loss='mse', optimizer=tf.keras.optimizers.Adam(learning_rate=0.01), metrics=['mae'])\n",
        "model.summary()\n",
        "\n",
        "early_stop = EarlyStopping(monitor='val_loss', patience=5)\n",
        "model.fit(X_train, y_train, validation_split=0.2, epochs=100, batch_size=16, callbacks=[early_stop])"
      ],
      "execution_count": null,
      "outputs": [
        {
          "output_type": "stream",
          "text": [
            "Model: \"sequential_47\"\n",
            "_________________________________________________________________\n",
            "Layer (type)                 Output Shape              Param #   \n",
            "=================================================================\n",
            "gru_43 (GRU)                 (None, 16)                912       \n",
            "_________________________________________________________________\n",
            "dense_44 (Dense)             (None, 1)                 17        \n",
            "=================================================================\n",
            "Total params: 929\n",
            "Trainable params: 929\n",
            "Non-trainable params: 0\n",
            "_________________________________________________________________\n",
            "Epoch 1/100\n",
            "73/73 [==============================] - 3s 18ms/step - loss: 17145.2656 - mae: 101.2834 - val_loss: 14601.5771 - val_mae: 92.1833\n",
            "Epoch 2/100\n",
            "73/73 [==============================] - 0s 5ms/step - loss: 14768.3672 - mae: 91.0675 - val_loss: 12600.4658 - val_mae: 84.0510\n",
            "Epoch 3/100\n",
            "73/73 [==============================] - 0s 6ms/step - loss: 12917.6123 - mae: 84.0621 - val_loss: 11020.6650 - val_mae: 78.2392\n",
            "Epoch 4/100\n",
            "73/73 [==============================] - 0s 5ms/step - loss: 11443.4277 - mae: 78.8273 - val_loss: 9776.7852 - val_mae: 73.7140\n",
            "Epoch 5/100\n",
            "73/73 [==============================] - 0s 5ms/step - loss: 10279.6025 - mae: 75.0652 - val_loss: 8802.1768 - val_mae: 69.9411\n",
            "Epoch 6/100\n",
            "73/73 [==============================] - 0s 5ms/step - loss: 9373.9141 - mae: 71.9930 - val_loss: 8065.6729 - val_mae: 67.1182\n",
            "Epoch 7/100\n",
            "73/73 [==============================] - 0s 5ms/step - loss: 8678.1924 - mae: 69.7124 - val_loss: 7523.3491 - val_mae: 65.1101\n",
            "Epoch 8/100\n",
            "73/73 [==============================] - 0s 5ms/step - loss: 8159.6104 - mae: 67.9034 - val_loss: 7118.8848 - val_mae: 63.6430\n",
            "Epoch 9/100\n",
            "73/73 [==============================] - 0s 5ms/step - loss: 7777.5020 - mae: 66.7631 - val_loss: 6832.5874 - val_mae: 62.6467\n",
            "Epoch 10/100\n",
            "73/73 [==============================] - 0s 5ms/step - loss: 7505.6504 - mae: 66.0346 - val_loss: 6639.8037 - val_mae: 62.1411\n",
            "Epoch 11/100\n",
            "73/73 [==============================] - 0s 5ms/step - loss: 7313.1064 - mae: 65.6460 - val_loss: 6500.2974 - val_mae: 61.9761\n",
            "Epoch 12/100\n",
            "73/73 [==============================] - 0s 5ms/step - loss: 7179.9712 - mae: 65.4056 - val_loss: 6422.7817 - val_mae: 62.0486\n",
            "Epoch 13/100\n",
            "73/73 [==============================] - 0s 5ms/step - loss: 7094.1455 - mae: 65.3361 - val_loss: 6372.0508 - val_mae: 62.2101\n",
            "Epoch 14/100\n",
            "73/73 [==============================] - 0s 6ms/step - loss: 7036.7739 - mae: 65.3389 - val_loss: 6347.1685 - val_mae: 62.3676\n",
            "Epoch 15/100\n",
            "73/73 [==============================] - 0s 6ms/step - loss: 7000.4468 - mae: 65.4486 - val_loss: 6329.3120 - val_mae: 62.5827\n",
            "Epoch 16/100\n",
            "73/73 [==============================] - 0s 6ms/step - loss: 6978.2319 - mae: 65.5143 - val_loss: 6323.2886 - val_mae: 62.7584\n",
            "Epoch 17/100\n",
            "73/73 [==============================] - 0s 5ms/step - loss: 6965.9404 - mae: 65.5859 - val_loss: 6321.5996 - val_mae: 62.8829\n",
            "Epoch 18/100\n",
            "73/73 [==============================] - 0s 6ms/step - loss: 6957.3320 - mae: 65.6652 - val_loss: 6322.0322 - val_mae: 63.1106\n",
            "Epoch 19/100\n",
            "73/73 [==============================] - 0s 5ms/step - loss: 6953.5981 - mae: 65.7446 - val_loss: 6322.6167 - val_mae: 63.1634\n",
            "Epoch 20/100\n",
            "73/73 [==============================] - 0s 6ms/step - loss: 6950.0308 - mae: 65.8377 - val_loss: 6325.3032 - val_mae: 63.3276\n",
            "Epoch 21/100\n",
            "73/73 [==============================] - 0s 5ms/step - loss: 6949.5220 - mae: 65.8532 - val_loss: 6327.2412 - val_mae: 63.4160\n",
            "Epoch 22/100\n",
            "73/73 [==============================] - 0s 6ms/step - loss: 6948.1396 - mae: 65.8988 - val_loss: 6329.4385 - val_mae: 63.5015\n"
          ],
          "name": "stdout"
        },
        {
          "output_type": "execute_result",
          "data": {
            "text/plain": [
              "<tensorflow.python.keras.callbacks.History at 0x7f97a81cdc10>"
            ]
          },
          "metadata": {
            "tags": []
          },
          "execution_count": 124
        }
      ]
    },
    {
      "cell_type": "code",
      "metadata": {
        "id": "TG3U9tGKCCHI"
      },
      "source": [
        ""
      ],
      "execution_count": null,
      "outputs": []
    }
  ]
}