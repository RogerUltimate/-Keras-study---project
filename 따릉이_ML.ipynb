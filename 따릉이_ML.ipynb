{
  "nbformat": 4,
  "nbformat_minor": 0,
  "metadata": {
    "colab": {
      "name": "따릉이 ML.ipynb",
      "provenance": [],
      "collapsed_sections": [],
      "toc_visible": true,
      "mount_file_id": "1rxFqPLaV--DAh_y67C7mYECAp3tnzWhx",
      "authorship_tag": "ABX9TyMcEZClzM3qf8UGqr1seoi1",
      "include_colab_link": true
    },
    "kernelspec": {
      "name": "python3",
      "display_name": "Python 3"
    },
    "language_info": {
      "name": "python"
    }
  },
  "cells": [
    {
      "cell_type": "markdown",
      "metadata": {
        "id": "view-in-github",
        "colab_type": "text"
      },
      "source": [
        "<a href=\"https://colab.research.google.com/github/RogerUltimate/-Keras-study---project/blob/main/%EB%94%B0%EB%A6%89%EC%9D%B4_ML.ipynb\" target=\"_parent\"><img src=\"https://colab.research.google.com/assets/colab-badge.svg\" alt=\"Open In Colab\"/></a>"
      ]
    },
    {
      "cell_type": "code",
      "metadata": {
        "id": "z_9ykpK8-Eu4"
      },
      "source": [
        "import pandas as pd\n",
        "import numpy as np\n",
        "from sklearn import tree\n",
        "from sklearn import preprocessing\n",
        "from sklearn.model_selection import train_test_split\n",
        "from sklearn.naive_bayes import GaussianNB\n",
        "from sklearn import metrics\n",
        "from sklearn.metrics import accuracy_score\n",
        "from sklearn.feature_extraction.text import CountVectorizer\n",
        "from sklearn.naive_bayes import BernoulliNB\n",
        "from sklearn.ensemble import RandomForestClassifier\n",
        "from sklearn.model_selection import GridSearchCV\n",
        "from sklearn.neighbors import KNeighborsClassifier\n",
        "from sklearn.svm import SVC\n",
        "from sklearn.ensemble import VotingClassifier"
      ],
      "execution_count": null,
      "outputs": []
    },
    {
      "cell_type": "code",
      "metadata": {
        "id": "642VO7Lq-Als"
      },
      "source": [
        "train = pd.read_csv('/content/drive/MyDrive/Colab Notebooks/Keras study/따릉이 예측/train.csv')\n",
        "test = pd.read_csv('/content/drive/MyDrive/Colab Notebooks/Keras study/따릉이 예측/test.csv')\n",
        "submission = pd.read_csv('/content/drive/MyDrive/Colab Notebooks/Keras study/따릉이 예측/submission.csv')"
      ],
      "execution_count": null,
      "outputs": []
    },
    {
      "cell_type": "code",
      "metadata": {
        "id": "aOEBE4cr_dZY"
      },
      "source": [
        "train.interpolate(inplace=True)\n",
        "test.interpolate(inplace=True)"
      ],
      "execution_count": null,
      "outputs": []
    },
    {
      "cell_type": "code",
      "metadata": {
        "id": "PoSRZauE-Mem"
      },
      "source": [
        "feature_cols = ['hour', 'hour_bef_temperature','hour_bef_windspeed','hour_bef_ozone']\n",
        "label_cols = ['count']\n",
        "\n",
        "feature_df = pd.DataFrame(train, columns=feature_cols)\n",
        "label_df = pd.DataFrame(train, columns=label_cols)\n",
        "x_train = feature_df.to_numpy()\n",
        "y_train = label_df.to_numpy()\n",
        "\n",
        "test_df = pd.DataFrame(test, columns=feature_cols)\n",
        "x_test = test_df.to_numpy()"
      ],
      "execution_count": null,
      "outputs": []
    },
    {
      "cell_type": "code",
      "metadata": {
        "colab": {
          "base_uri": "https://localhost:8080/"
        },
        "id": "Joyh7rcY-MhC",
        "outputId": "fc37876a-fbdc-4d3a-b70d-972ac24fc55c"
      },
      "source": [
        "x_train"
      ],
      "execution_count": null,
      "outputs": [
        {
          "output_type": "execute_result",
          "data": {
            "text/plain": [
              "array([[2.00e+01, 1.63e+01, 1.50e+00, 2.70e-02],\n",
              "       [1.30e+01, 2.01e+01, 1.40e+00, 4.20e-02],\n",
              "       [6.00e+00, 1.39e+01, 7.00e-01, 3.30e-02],\n",
              "       ...,\n",
              "       [5.00e+00, 1.83e+01, 1.90e+00, 9.00e-03],\n",
              "       [2.10e+01, 2.07e+01, 3.70e+00, 8.20e-02],\n",
              "       [1.70e+01, 2.11e+01, 3.10e+00, 4.60e-02]])"
            ]
          },
          "metadata": {
            "tags": []
          },
          "execution_count": 70
        }
      ]
    },
    {
      "cell_type": "code",
      "metadata": {
        "colab": {
          "base_uri": "https://localhost:8080/"
        },
        "id": "FktnSj6m-MjW",
        "outputId": "36d5d6cf-6285-47c9-efe1-6b39d492710e"
      },
      "source": [
        "y_train"
      ],
      "execution_count": null,
      "outputs": [
        {
          "output_type": "execute_result",
          "data": {
            "text/plain": [
              "array([[ 49.],\n",
              "       [159.],\n",
              "       [ 26.],\n",
              "       ...,\n",
              "       [ 22.],\n",
              "       [216.],\n",
              "       [170.]])"
            ]
          },
          "metadata": {
            "tags": []
          },
          "execution_count": 71
        }
      ]
    },
    {
      "cell_type": "code",
      "metadata": {
        "id": "XQdW5RZ_-MmH"
      },
      "source": [
        "clf = tree.DecisionTreeClassifier(max_depth=4,        \n",
        "                                  min_samples_split=2,  \n",
        "                                  min_samples_leaf=2).fit(x_train, y_train.ravel()) "
      ],
      "execution_count": null,
      "outputs": []
    },
    {
      "cell_type": "code",
      "metadata": {
        "id": "x6zSlHU3C-t7"
      },
      "source": [
        "pred = clf.predict(x_test)"
      ],
      "execution_count": null,
      "outputs": []
    },
    {
      "cell_type": "code",
      "metadata": {
        "colab": {
          "base_uri": "https://localhost:8080/"
        },
        "id": "zxIqsUBdC-wo",
        "outputId": "66b2f95a-2eef-4926-84d8-03e9aa941f78"
      },
      "source": [
        "pred"
      ],
      "execution_count": null,
      "outputs": [
        {
          "output_type": "execute_result",
          "data": {
            "text/plain": [
              "array([ 37., 213., 113.,  37., 114.,  95., 213., 213.,  37.,  95., 213.,\n",
              "       213., 113.,  24., 213., 113.,  15., 213., 213., 113., 213.,  37.,\n",
              "        15., 113., 113.,  95.,  15.,  95.,  95., 113.,  46.,  15.,  46.,\n",
              "       113., 213.,  37., 113., 213., 213.,  37.,  46.,  95.,  95.,  95.,\n",
              "       213., 213.,  37.,  46.,  15.,  46., 213.,  46.,  95., 213., 113.,\n",
              "        95.,  24., 113.,  15.,  15.,  37.,  95., 213., 213., 213., 213.,\n",
              "        15., 213., 213.,  15.,  95.,  24.,  95.,  15., 213., 113.,  37.,\n",
              "       213., 213.,  15., 213., 113.,  37.,  46.,  95., 213.,  46., 113.,\n",
              "        46., 213., 213., 113.,  46.,  95.,  24.,  46.,  37.,  15., 213.,\n",
              "       213.,  15., 213.,  46.,  95.,  37., 114.,  95.,  15., 113., 213.,\n",
              "       213., 213., 213.,  95.,  46., 113., 213.,  24., 113.,  15.,  95.,\n",
              "        95., 213., 213.,  20.,  95.,  46.,  15., 113.,  46., 113., 113.,\n",
              "        15., 113., 213., 113.,  20., 113., 213., 213.,  95.,  15.,  37.,\n",
              "        46.,  46.,  95., 213.,  95., 113., 113., 113., 213., 213., 213.,\n",
              "       213.,  15.,  95.,  15.,  46., 113., 113.,  15., 213., 213., 113.,\n",
              "        15., 213., 113., 213.,  15.,  95., 113.,  46., 113.,  95.,  95.,\n",
              "       213., 213., 213., 113., 213.,  95., 113., 213., 113.,  46.,  46.,\n",
              "       213., 113.,  20.,  24., 113.,  95., 113., 113., 213., 213., 113.,\n",
              "       113.,  95.,  15., 213.,  15., 213., 113.,  37., 113., 213., 213.,\n",
              "        46., 213.,  95., 113., 213., 213., 113., 213.,  95., 113.,  46.,\n",
              "        37.,  15.,  95.,  46., 213.,  24., 213., 213.,  37.,  95., 213.,\n",
              "       213.,  15.,  37., 213.,  95., 213., 213., 213., 213.,  15., 113.,\n",
              "        15., 113., 213.,  95., 213., 213.,  37.,  15.,  37., 213., 213.,\n",
              "        95., 113.,  95.,  15., 213.,  46.,  15., 213.,  15., 213.,  15.,\n",
              "        95., 213.,  15., 213.,  46., 213., 113.,  95.,  46., 213.,  15.,\n",
              "       213.,  46., 213.,  95.,  20., 213.,  95.,  15., 213.,  95.,  95.,\n",
              "       213., 113.,  46., 113., 113., 213.,  95., 113., 113.,  37., 113.,\n",
              "        20., 213.,  20.,  95., 213., 213., 113., 213., 113., 113.,  46.,\n",
              "       113.,  46., 213., 213., 213.,  37., 213., 213., 213.,  24.,  15.,\n",
              "        15., 213.,  20., 213., 213.,  37., 213., 213.,  95.,  95.,  95.,\n",
              "        15.,  37., 213., 213., 113.,  37., 213., 213., 113., 213.,  15.,\n",
              "        15., 213., 113.,  95.,  15.,  37.,  95., 113., 213., 213., 213.,\n",
              "        37.,  46., 213.,  46.,  15.,  15.,  95.,  95.,  46., 113., 213.,\n",
              "        95., 113.,  15.,  37.,  95.,  15., 113., 113.,  37., 213., 213.,\n",
              "       213.,  15.,  20., 113.,  37.,  37.,  95.,  95., 213., 213., 113.,\n",
              "        37., 113., 113.,  95., 213.,  24., 213., 213.,  46.,  95.,  95.,\n",
              "       213.,  15.,  15., 213.,  15.,  46.,  15., 213.,  37.,  95., 213.,\n",
              "        95.,  95.,  95., 113., 213., 113., 113.,  20., 113., 213.,  95.,\n",
              "        46.,  46.,  15.,  15.,  15.,  37., 113.,  95.,  95., 213.,  95.,\n",
              "       213., 113., 213., 213., 113.,  95., 213., 213.,  37.,  95., 213.,\n",
              "       213., 213.,  24.,  95., 113.,  37.,  95.,  24., 213., 213., 213.,\n",
              "       113., 213., 213., 113., 213., 213.,  95.,  46.,  95., 213., 113.,\n",
              "        95.,  95.,  46., 113., 213.,  95., 213., 213., 213.,  46., 213.,\n",
              "        95.,  95., 113.,  15.,  37., 213., 213.,  95.,  37.,  15.,  15.,\n",
              "       213., 113., 213., 213.,  46., 213., 113., 213.,  46.,  37.,  24.,\n",
              "        95., 113., 213., 213., 213.,  15., 113.,  46., 113.,  37., 213.,\n",
              "       213.,  15., 213.,  37., 213., 213., 213., 213., 213.,  95.,  37.,\n",
              "       213., 113., 213.,  15., 213.,  15.,  46.,  15., 113.,  15., 213.,\n",
              "       213., 113.,  37.,  37.,  20., 213.,  95.,  37.,  95.,  15.,  24.,\n",
              "        24., 213.,  15., 113., 213., 213., 213.,  95.,  95.,  95.,  37.,\n",
              "       213.,  20.,  15., 113.,  15.,  95., 113.,  37., 213., 213., 213.,\n",
              "       213.,  15.,  95.,  24.,  37.,  95.,  37.,  15., 113.,  46., 213.,\n",
              "       113., 213., 113., 213., 113., 213.,  37.,  37.,  37.,  20.,  46.,\n",
              "        15.,  15., 113.,  15., 213., 213., 113.,  46.,  46.,  15., 213.,\n",
              "        95., 113., 213.,  15., 213., 113.,  15., 213.,  95.,  24.,  37.,\n",
              "       213.,  95., 213., 213., 213., 213., 213.,  15.,  95., 213.,  15.,\n",
              "        24.,  95., 113.,  95.,  46., 213.,  95., 213.,  95., 213.,  46.,\n",
              "        37.,  15., 213., 213.,  46.,  95.,  15.,  95., 213., 113., 113.,\n",
              "        46.,  37.,  95.,  95.,  46.,  95., 213., 113., 213., 213., 213.,\n",
              "       213.,  37.,  95.,  95., 213., 213., 213.,  95.,  95., 113.,  15.,\n",
              "       213., 213.,  15.,  46.,  95.,  95.,  95., 113., 213.,  46.,  95.,\n",
              "       113., 213., 113.,  95., 113.,  37.,  95.,  15.,  37.,  15., 213.,\n",
              "        95., 113., 213., 113., 113.,  15.,  95.,  15., 113.,  15.,  37.,\n",
              "        95.,  46., 113.,  37.,  95., 213.,  37., 213., 213.,  15., 213.,\n",
              "       113., 213.,  20.,  46.,  15., 213.,  46.,  46.,  95., 213.,  95.])"
            ]
          },
          "metadata": {
            "tags": []
          },
          "execution_count": 74
        }
      ]
    },
    {
      "cell_type": "code",
      "metadata": {
        "id": "tOT3sZUcD5tm"
      },
      "source": [
        "submission['count'] = pred"
      ],
      "execution_count": null,
      "outputs": []
    },
    {
      "cell_type": "code",
      "metadata": {
        "colab": {
          "base_uri": "https://localhost:8080/",
          "height": 423
        },
        "id": "md3UpNWhC-yl",
        "outputId": "5eb3c942-ac94-45e0-ffba-d06f9e723886"
      },
      "source": [
        "submission1 = submission\n",
        "submission1"
      ],
      "execution_count": null,
      "outputs": [
        {
          "output_type": "execute_result",
          "data": {
            "text/html": [
              "<div>\n",
              "<style scoped>\n",
              "    .dataframe tbody tr th:only-of-type {\n",
              "        vertical-align: middle;\n",
              "    }\n",
              "\n",
              "    .dataframe tbody tr th {\n",
              "        vertical-align: top;\n",
              "    }\n",
              "\n",
              "    .dataframe thead th {\n",
              "        text-align: right;\n",
              "    }\n",
              "</style>\n",
              "<table border=\"1\" class=\"dataframe\">\n",
              "  <thead>\n",
              "    <tr style=\"text-align: right;\">\n",
              "      <th></th>\n",
              "      <th>id</th>\n",
              "      <th>count</th>\n",
              "    </tr>\n",
              "  </thead>\n",
              "  <tbody>\n",
              "    <tr>\n",
              "      <th>0</th>\n",
              "      <td>0</td>\n",
              "      <td>37.0</td>\n",
              "    </tr>\n",
              "    <tr>\n",
              "      <th>1</th>\n",
              "      <td>1</td>\n",
              "      <td>213.0</td>\n",
              "    </tr>\n",
              "    <tr>\n",
              "      <th>2</th>\n",
              "      <td>2</td>\n",
              "      <td>113.0</td>\n",
              "    </tr>\n",
              "    <tr>\n",
              "      <th>3</th>\n",
              "      <td>4</td>\n",
              "      <td>37.0</td>\n",
              "    </tr>\n",
              "    <tr>\n",
              "      <th>4</th>\n",
              "      <td>5</td>\n",
              "      <td>114.0</td>\n",
              "    </tr>\n",
              "    <tr>\n",
              "      <th>...</th>\n",
              "      <td>...</td>\n",
              "      <td>...</td>\n",
              "    </tr>\n",
              "    <tr>\n",
              "      <th>710</th>\n",
              "      <td>2148</td>\n",
              "      <td>46.0</td>\n",
              "    </tr>\n",
              "    <tr>\n",
              "      <th>711</th>\n",
              "      <td>2149</td>\n",
              "      <td>46.0</td>\n",
              "    </tr>\n",
              "    <tr>\n",
              "      <th>712</th>\n",
              "      <td>2165</td>\n",
              "      <td>95.0</td>\n",
              "    </tr>\n",
              "    <tr>\n",
              "      <th>713</th>\n",
              "      <td>2166</td>\n",
              "      <td>213.0</td>\n",
              "    </tr>\n",
              "    <tr>\n",
              "      <th>714</th>\n",
              "      <td>2177</td>\n",
              "      <td>95.0</td>\n",
              "    </tr>\n",
              "  </tbody>\n",
              "</table>\n",
              "<p>715 rows × 2 columns</p>\n",
              "</div>"
            ],
            "text/plain": [
              "       id  count\n",
              "0       0   37.0\n",
              "1       1  213.0\n",
              "2       2  113.0\n",
              "3       4   37.0\n",
              "4       5  114.0\n",
              "..    ...    ...\n",
              "710  2148   46.0\n",
              "711  2149   46.0\n",
              "712  2165   95.0\n",
              "713  2166  213.0\n",
              "714  2177   95.0\n",
              "\n",
              "[715 rows x 2 columns]"
            ]
          },
          "metadata": {
            "tags": []
          },
          "execution_count": 76
        }
      ]
    },
    {
      "cell_type": "code",
      "metadata": {
        "id": "s3l-ll9mC-0k"
      },
      "source": [
        "submission1.to_csv('test1.csv', index=False)"
      ],
      "execution_count": null,
      "outputs": []
    },
    {
      "cell_type": "code",
      "metadata": {
        "colab": {
          "base_uri": "https://localhost:8080/"
        },
        "id": "nTB6mjr2C-5A",
        "outputId": "35683d39-c265-4f69-dae6-6bc92fd33ed5"
      },
      "source": [
        "model = GaussianNB()\n",
        "model.fit(x_train, y_train)"
      ],
      "execution_count": null,
      "outputs": [
        {
          "output_type": "stream",
          "text": [
            "/usr/local/lib/python3.7/dist-packages/sklearn/naive_bayes.py:206: DataConversionWarning: A column-vector y was passed when a 1d array was expected. Please change the shape of y to (n_samples, ), for example using ravel().\n",
            "  y = column_or_1d(y, warn=True)\n"
          ],
          "name": "stderr"
        },
        {
          "output_type": "execute_result",
          "data": {
            "text/plain": [
              "GaussianNB(priors=None, var_smoothing=1e-09)"
            ]
          },
          "metadata": {
            "tags": []
          },
          "execution_count": 78
        }
      ]
    },
    {
      "cell_type": "code",
      "metadata": {
        "id": "OrPFZ48b-MoD"
      },
      "source": [
        "predicted = model.predict(x_test)"
      ],
      "execution_count": null,
      "outputs": []
    },
    {
      "cell_type": "code",
      "metadata": {
        "colab": {
          "base_uri": "https://localhost:8080/"
        },
        "id": "rIm-ENvHFpqD",
        "outputId": "50e1e2ac-4811-4239-befc-ce5eac6b4e7d"
      },
      "source": [
        "predicted "
      ],
      "execution_count": null,
      "outputs": [
        {
          "output_type": "execute_result",
          "data": {
            "text/plain": [
              "array([ 95., 304.,  98.,  95., 144., 108., 402., 227.,  95., 212., 244.,\n",
              "       142., 142.,  90., 131., 227.,  20., 278., 402., 142., 300.,  19.,\n",
              "        32.,  92., 132.,  92.,  20., 108.,  95.,  97.,  32.,  90.,  90.,\n",
              "        92., 278.,  95., 119., 186., 227.,  32.,  94., 116.,  65.,  99.,\n",
              "       324., 153.,  95.,  90.,  89.,  94., 304.,  94.,  65., 122., 132.,\n",
              "       212.,  20., 256.,  95.,  18.,  95.,  99., 303., 244., 168., 317.,\n",
              "        32., 304., 206.,  95., 113.,  26., 212.,  18., 317., 246.,  15.,\n",
              "       274., 284.,  28., 256., 142.,  15.,  90.,  59., 280.,  90.,  97.,\n",
              "        50., 219., 317., 168.,  30., 168.,  30.,  69.,  95.,  28., 221.,\n",
              "       183.,  18., 304.,  27.,  95.,  95., 145.,  92.,  28., 227., 131.,\n",
              "       227., 284., 183., 113.,  69., 164., 153.,  30., 142.,  20.,  92.,\n",
              "        95., 219., 122.,  95.,  95.,  44.,  16., 151.,  90., 132., 164.,\n",
              "        89., 164., 142., 132.,  50., 164., 317., 303., 212.,  28.,  18.,\n",
              "       128.,  90.,  92., 138.,  95., 161., 227., 164., 252., 303., 227.,\n",
              "       153.,  16.,  95.,  95.,  94., 132., 318.,  32., 247., 227., 132.,\n",
              "        95., 402., 116., 187.,  95.,  95., 151.,  30., 142.,  92., 113.,\n",
              "       219., 131., 284., 113., 143., 212., 132., 158.,  92.,  94.,  69.,\n",
              "       213., 168.,  40.,  20., 164.,  95., 142.,  97., 272., 402., 284.,\n",
              "       142.,  83.,  95., 303.,  95., 303., 142.,  95.,  92., 278., 232.,\n",
              "        69., 278., 212., 151., 244., 142., 113., 143.,  95., 142.,  94.,\n",
              "        95.,  94.,  92.,  40., 183.,  28., 249., 158.,  18., 212., 150.,\n",
              "       153.,  95.,  89., 158.,  92., 303., 317., 131., 300.,  28., 272.,\n",
              "        20., 113., 131.,  95., 196., 232.,  65.,  95.,  56., 324., 207.,\n",
              "        95., 142.,  95.,  32., 402.,  94.,  16., 284.,  32., 167.,  20.,\n",
              "        95., 244.,  95., 304.,  94., 168., 272., 108.,  46., 187.,  30.,\n",
              "       278.,  30., 131.,  95.,  94., 123.,  95.,  18., 275., 212.,  95.,\n",
              "       244., 164.,  44.,  98., 161., 278., 212., 142.,  97.,  95., 151.,\n",
              "        94., 205.,  44.,  97., 278., 131., 180., 213., 284., 113.,  46.,\n",
              "       274.,  90., 293., 278., 154.,  28., 278., 143., 196.,  94.,  28.,\n",
              "        18., 278.,  20., 153., 207.,  89., 303., 278.,  95.,  89.,  65.,\n",
              "        20.,  95., 114., 216., 125.,  28., 249., 114., 154., 402.,  28.,\n",
              "        28., 324., 272.,  92.,  95.,  26.,  95.,  97., 252., 153., 324.,\n",
              "        89.,  90., 142.,  90.,  18.,  95.,  95., 142.,  89., 227., 153.,\n",
              "       212., 116.,  30.,  95.,  92.,  95., 227., 113.,  19., 256., 205.,\n",
              "       256.,  16.,  94., 164.,  95.,  32., 104.,  95., 176., 187., 142.,\n",
              "        95., 151., 132.,  95., 227.,  30., 153., 239.,  94.,  95.,  95.,\n",
              "       205.,  28.,  20., 239.,  17.,  94.,  20., 123.,  95.,  95., 137.,\n",
              "        95.,  92.,  95., 284., 168., 142.,  95.,  94.,  92., 227.,  83.,\n",
              "        94.,  69.,  95.,  28.,  20.,  15.,  97.,  95.,  95., 227.,  95.,\n",
              "       303., 151., 143., 123., 113.,  95., 119., 188.,  95.,  95., 304.,\n",
              "       278., 219.,  30.,  95., 113.,  32.,  92.,  28., 317., 187., 252.,\n",
              "       142., 183., 158., 275., 144., 158.,  99.,  94.,  95., 153., 116.,\n",
              "        95.,  92.,  90., 268., 239., 108., 256., 246., 249.,  90., 305.,\n",
              "        89.,  74., 272.,  95.,  56., 142., 244.,  95.,  32.,  28.,  32.,\n",
              "       227., 161., 188., 114.,  30., 153., 227., 153.,  94.,  56.,  32.,\n",
              "        95., 132., 143., 252., 304.,  20., 227.,  90., 151.,  95., 227.,\n",
              "       304.,  20., 123.,  65., 119., 153., 232., 153., 303.,  99.,  18.,\n",
              "       213., 227., 114.,  20., 123.,  16.,  89.,  95., 108., 128., 114.,\n",
              "       274.,  97.,  32.,  95.,  46., 205., 125.,  95.,  92.,  95.,  28.,\n",
              "        50., 239.,  33., 164., 278., 324., 158.,  92., 212.,  92.,  95.,\n",
              "       196.,  20.,  28.,  95.,   7.,  95., 113.,  95., 216., 227., 167.,\n",
              "       317.,  20., 168.,  30.,  95.,  92.,  95.,  20., 246.,  94., 300.,\n",
              "        97., 303., 274., 114.,  97., 150.,  15., 128.,  15.,  20.,  50.,\n",
              "        95.,  95., 113.,  90., 278., 278., 161.,  69.,  94.,  20., 123.,\n",
              "       108.,  97., 304.,  95., 278., 113.,  26., 317.,  92.,  94., 169.,\n",
              "       158.,  15., 402., 278., 150., 304., 229., 128.,  95., 138.,  95.,\n",
              "        20.,  15., 318., 212.,  94., 196.,  95., 278.,  95., 213.,  90.,\n",
              "        15.,  28., 318., 221.,  69.,  82.,  33., 108., 206., 132., 132.,\n",
              "        46.,  95.,  95.,  92.,  94.,  95., 213.,  92., 252., 122., 317.,\n",
              "       153.,  95.,  95.,  95., 317., 304., 278.,  95.,  95.,  97.,  20.,\n",
              "       191., 278.,  20.,  46.,  95.,  92., 212.,  92., 303.,  94.,  97.,\n",
              "        92., 252., 108., 212., 161.,  30., 212.,  28.,  28.,  94., 158.,\n",
              "       113.,  97., 114., 132., 151.,  94., 212.,  89., 113.,  20.,  95.,\n",
              "        95.,  90., 227.,  15.,  65., 304.,  56., 317., 304.,  20., 402.,\n",
              "       116., 213.,  94.,  50.,  95., 303.,  90.,  69.,  95., 114.,  95.])"
            ]
          },
          "metadata": {
            "tags": []
          },
          "execution_count": 80
        }
      ]
    },
    {
      "cell_type": "code",
      "metadata": {
        "id": "2plWOl6yFs7o"
      },
      "source": [
        "submission['count'] = predicted "
      ],
      "execution_count": null,
      "outputs": []
    },
    {
      "cell_type": "code",
      "metadata": {
        "colab": {
          "base_uri": "https://localhost:8080/",
          "height": 423
        },
        "id": "r_Z-uTZG-Mqa",
        "outputId": "8ecbf1f4-6d75-42cc-a7fb-26ef5f67e9f9"
      },
      "source": [
        "submission2 = submission\n",
        "submission2"
      ],
      "execution_count": null,
      "outputs": [
        {
          "output_type": "execute_result",
          "data": {
            "text/html": [
              "<div>\n",
              "<style scoped>\n",
              "    .dataframe tbody tr th:only-of-type {\n",
              "        vertical-align: middle;\n",
              "    }\n",
              "\n",
              "    .dataframe tbody tr th {\n",
              "        vertical-align: top;\n",
              "    }\n",
              "\n",
              "    .dataframe thead th {\n",
              "        text-align: right;\n",
              "    }\n",
              "</style>\n",
              "<table border=\"1\" class=\"dataframe\">\n",
              "  <thead>\n",
              "    <tr style=\"text-align: right;\">\n",
              "      <th></th>\n",
              "      <th>id</th>\n",
              "      <th>count</th>\n",
              "    </tr>\n",
              "  </thead>\n",
              "  <tbody>\n",
              "    <tr>\n",
              "      <th>0</th>\n",
              "      <td>0</td>\n",
              "      <td>95.0</td>\n",
              "    </tr>\n",
              "    <tr>\n",
              "      <th>1</th>\n",
              "      <td>1</td>\n",
              "      <td>304.0</td>\n",
              "    </tr>\n",
              "    <tr>\n",
              "      <th>2</th>\n",
              "      <td>2</td>\n",
              "      <td>98.0</td>\n",
              "    </tr>\n",
              "    <tr>\n",
              "      <th>3</th>\n",
              "      <td>4</td>\n",
              "      <td>95.0</td>\n",
              "    </tr>\n",
              "    <tr>\n",
              "      <th>4</th>\n",
              "      <td>5</td>\n",
              "      <td>144.0</td>\n",
              "    </tr>\n",
              "    <tr>\n",
              "      <th>...</th>\n",
              "      <td>...</td>\n",
              "      <td>...</td>\n",
              "    </tr>\n",
              "    <tr>\n",
              "      <th>710</th>\n",
              "      <td>2148</td>\n",
              "      <td>90.0</td>\n",
              "    </tr>\n",
              "    <tr>\n",
              "      <th>711</th>\n",
              "      <td>2149</td>\n",
              "      <td>69.0</td>\n",
              "    </tr>\n",
              "    <tr>\n",
              "      <th>712</th>\n",
              "      <td>2165</td>\n",
              "      <td>95.0</td>\n",
              "    </tr>\n",
              "    <tr>\n",
              "      <th>713</th>\n",
              "      <td>2166</td>\n",
              "      <td>114.0</td>\n",
              "    </tr>\n",
              "    <tr>\n",
              "      <th>714</th>\n",
              "      <td>2177</td>\n",
              "      <td>95.0</td>\n",
              "    </tr>\n",
              "  </tbody>\n",
              "</table>\n",
              "<p>715 rows × 2 columns</p>\n",
              "</div>"
            ],
            "text/plain": [
              "       id  count\n",
              "0       0   95.0\n",
              "1       1  304.0\n",
              "2       2   98.0\n",
              "3       4   95.0\n",
              "4       5  144.0\n",
              "..    ...    ...\n",
              "710  2148   90.0\n",
              "711  2149   69.0\n",
              "712  2165   95.0\n",
              "713  2166  114.0\n",
              "714  2177   95.0\n",
              "\n",
              "[715 rows x 2 columns]"
            ]
          },
          "metadata": {
            "tags": []
          },
          "execution_count": 82
        }
      ]
    },
    {
      "cell_type": "code",
      "metadata": {
        "id": "ou0rnTA_F3XZ"
      },
      "source": [
        "submission2.to_csv('test2.csv', index=False)"
      ],
      "execution_count": null,
      "outputs": []
    },
    {
      "cell_type": "code",
      "metadata": {
        "id": "rGkt3k0DKZmd"
      },
      "source": [
        "rf_param_grid ={ \n",
        "    'n_estimators' : [100, 110, 120],\n",
        "    'min_samples_leaf' : [1, 2, 3],\n",
        "    'min_samples_split' : [2, 3, 4]\n",
        "    }"
      ],
      "execution_count": null,
      "outputs": []
    },
    {
      "cell_type": "code",
      "metadata": {
        "id": "743cs_xQvG0g",
        "colab": {
          "base_uri": "https://localhost:8080/"
        },
        "outputId": "f06fb933-e602-4eb6-ebd0-9813f71a4af8"
      },
      "source": [
        "rf_clf = RandomForestClassifier() \n",
        "grid = GridSearchCV(rf_clf, param_grid = rf_param_grid, scoring='accuracy', n_jobs=1)\n",
        "rf_clf.fit(x_train, y_train)\n",
        "rf_pred = rf_clf.predict(x_test)"
      ],
      "execution_count": null,
      "outputs": [
        {
          "output_type": "stream",
          "text": [
            "/usr/local/lib/python3.7/dist-packages/ipykernel_launcher.py:3: DataConversionWarning: A column-vector y was passed when a 1d array was expected. Please change the shape of y to (n_samples,), for example using ravel().\n",
            "  This is separate from the ipykernel package so we can avoid doing imports until\n"
          ],
          "name": "stderr"
        }
      ]
    },
    {
      "cell_type": "code",
      "metadata": {
        "id": "Pus1eIkuH9bY"
      },
      "source": [
        "submission['count'] = rf_pred "
      ],
      "execution_count": null,
      "outputs": []
    },
    {
      "cell_type": "code",
      "metadata": {
        "colab": {
          "base_uri": "https://localhost:8080/",
          "height": 423
        },
        "id": "tCI5xd-YH9ds",
        "outputId": "0eb499b4-054a-4494-f432-2501a712d6aa"
      },
      "source": [
        "submission3 = submission\n",
        "submission3"
      ],
      "execution_count": null,
      "outputs": [
        {
          "output_type": "execute_result",
          "data": {
            "text/html": [
              "<div>\n",
              "<style scoped>\n",
              "    .dataframe tbody tr th:only-of-type {\n",
              "        vertical-align: middle;\n",
              "    }\n",
              "\n",
              "    .dataframe tbody tr th {\n",
              "        vertical-align: top;\n",
              "    }\n",
              "\n",
              "    .dataframe thead th {\n",
              "        text-align: right;\n",
              "    }\n",
              "</style>\n",
              "<table border=\"1\" class=\"dataframe\">\n",
              "  <thead>\n",
              "    <tr style=\"text-align: right;\">\n",
              "      <th></th>\n",
              "      <th>id</th>\n",
              "      <th>count</th>\n",
              "    </tr>\n",
              "  </thead>\n",
              "  <tbody>\n",
              "    <tr>\n",
              "      <th>0</th>\n",
              "      <td>0</td>\n",
              "      <td>26.0</td>\n",
              "    </tr>\n",
              "    <tr>\n",
              "      <th>1</th>\n",
              "      <td>1</td>\n",
              "      <td>215.0</td>\n",
              "    </tr>\n",
              "    <tr>\n",
              "      <th>2</th>\n",
              "      <td>2</td>\n",
              "      <td>83.0</td>\n",
              "    </tr>\n",
              "    <tr>\n",
              "      <th>3</th>\n",
              "      <td>4</td>\n",
              "      <td>18.0</td>\n",
              "    </tr>\n",
              "    <tr>\n",
              "      <th>4</th>\n",
              "      <td>5</td>\n",
              "      <td>120.0</td>\n",
              "    </tr>\n",
              "    <tr>\n",
              "      <th>...</th>\n",
              "      <td>...</td>\n",
              "      <td>...</td>\n",
              "    </tr>\n",
              "    <tr>\n",
              "      <th>710</th>\n",
              "      <td>2148</td>\n",
              "      <td>80.0</td>\n",
              "    </tr>\n",
              "    <tr>\n",
              "      <th>711</th>\n",
              "      <td>2149</td>\n",
              "      <td>98.0</td>\n",
              "    </tr>\n",
              "    <tr>\n",
              "      <th>712</th>\n",
              "      <td>2165</td>\n",
              "      <td>108.0</td>\n",
              "    </tr>\n",
              "    <tr>\n",
              "      <th>713</th>\n",
              "      <td>2166</td>\n",
              "      <td>132.0</td>\n",
              "    </tr>\n",
              "    <tr>\n",
              "      <th>714</th>\n",
              "      <td>2177</td>\n",
              "      <td>129.0</td>\n",
              "    </tr>\n",
              "  </tbody>\n",
              "</table>\n",
              "<p>715 rows × 2 columns</p>\n",
              "</div>"
            ],
            "text/plain": [
              "       id  count\n",
              "0       0   26.0\n",
              "1       1  215.0\n",
              "2       2   83.0\n",
              "3       4   18.0\n",
              "4       5  120.0\n",
              "..    ...    ...\n",
              "710  2148   80.0\n",
              "711  2149   98.0\n",
              "712  2165  108.0\n",
              "713  2166  132.0\n",
              "714  2177  129.0\n",
              "\n",
              "[715 rows x 2 columns]"
            ]
          },
          "metadata": {
            "tags": []
          },
          "execution_count": 87
        }
      ]
    },
    {
      "cell_type": "code",
      "metadata": {
        "id": "KHExDZYdICO7"
      },
      "source": [
        "submission3.to_csv('test3.csv', index=False)"
      ],
      "execution_count": null,
      "outputs": []
    },
    {
      "cell_type": "code",
      "metadata": {
        "colab": {
          "base_uri": "https://localhost:8080/"
        },
        "id": "-UL0vaRVIfU-",
        "outputId": "5d5c3536-eaa8-4979-c3c3-e5a5d45ccdbf"
      },
      "source": [
        "voting_model = VotingClassifier(estimators=[\n",
        "    ('Decision_Tree', clf), ('Gaussuan', model), ('Random', rf_clf)], \n",
        "    weights=[1,1,1], voting='hard')\n",
        "voting_model.fit(x_train, y_train) \n",
        "hard_voting_predicted = voting_model.predict(x_test)\n"
      ],
      "execution_count": null,
      "outputs": [
        {
          "output_type": "stream",
          "text": [
            "/usr/local/lib/python3.7/dist-packages/sklearn/preprocessing/_label.py:235: DataConversionWarning: A column-vector y was passed when a 1d array was expected. Please change the shape of y to (n_samples, ), for example using ravel().\n",
            "  y = column_or_1d(y, warn=True)\n",
            "/usr/local/lib/python3.7/dist-packages/sklearn/preprocessing/_label.py:268: DataConversionWarning: A column-vector y was passed when a 1d array was expected. Please change the shape of y to (n_samples, ), for example using ravel().\n",
            "  y = column_or_1d(y, warn=True)\n"
          ],
          "name": "stderr"
        }
      ]
    },
    {
      "cell_type": "code",
      "metadata": {
        "id": "fVuh9uHnIfbx"
      },
      "source": [
        "submission['count'] = hard_voting_predicted"
      ],
      "execution_count": null,
      "outputs": []
    },
    {
      "cell_type": "code",
      "metadata": {
        "colab": {
          "base_uri": "https://localhost:8080/",
          "height": 423
        },
        "id": "YVrlovOXJhFM",
        "outputId": "9a3cd041-e895-40a8-d0fd-f530f74d03a8"
      },
      "source": [
        "submission4 = submission\n",
        "submission4"
      ],
      "execution_count": null,
      "outputs": [
        {
          "output_type": "execute_result",
          "data": {
            "text/html": [
              "<div>\n",
              "<style scoped>\n",
              "    .dataframe tbody tr th:only-of-type {\n",
              "        vertical-align: middle;\n",
              "    }\n",
              "\n",
              "    .dataframe tbody tr th {\n",
              "        vertical-align: top;\n",
              "    }\n",
              "\n",
              "    .dataframe thead th {\n",
              "        text-align: right;\n",
              "    }\n",
              "</style>\n",
              "<table border=\"1\" class=\"dataframe\">\n",
              "  <thead>\n",
              "    <tr style=\"text-align: right;\">\n",
              "      <th></th>\n",
              "      <th>id</th>\n",
              "      <th>count</th>\n",
              "    </tr>\n",
              "  </thead>\n",
              "  <tbody>\n",
              "    <tr>\n",
              "      <th>0</th>\n",
              "      <td>0</td>\n",
              "      <td>37.0</td>\n",
              "    </tr>\n",
              "    <tr>\n",
              "      <th>1</th>\n",
              "      <td>1</td>\n",
              "      <td>213.0</td>\n",
              "    </tr>\n",
              "    <tr>\n",
              "      <th>2</th>\n",
              "      <td>2</td>\n",
              "      <td>83.0</td>\n",
              "    </tr>\n",
              "    <tr>\n",
              "      <th>3</th>\n",
              "      <td>4</td>\n",
              "      <td>33.0</td>\n",
              "    </tr>\n",
              "    <tr>\n",
              "      <th>4</th>\n",
              "      <td>5</td>\n",
              "      <td>114.0</td>\n",
              "    </tr>\n",
              "    <tr>\n",
              "      <th>...</th>\n",
              "      <td>...</td>\n",
              "      <td>...</td>\n",
              "    </tr>\n",
              "    <tr>\n",
              "      <th>710</th>\n",
              "      <td>2148</td>\n",
              "      <td>46.0</td>\n",
              "    </tr>\n",
              "    <tr>\n",
              "      <th>711</th>\n",
              "      <td>2149</td>\n",
              "      <td>69.0</td>\n",
              "    </tr>\n",
              "    <tr>\n",
              "      <th>712</th>\n",
              "      <td>2165</td>\n",
              "      <td>95.0</td>\n",
              "    </tr>\n",
              "    <tr>\n",
              "      <th>713</th>\n",
              "      <td>2166</td>\n",
              "      <td>114.0</td>\n",
              "    </tr>\n",
              "    <tr>\n",
              "      <th>714</th>\n",
              "      <td>2177</td>\n",
              "      <td>95.0</td>\n",
              "    </tr>\n",
              "  </tbody>\n",
              "</table>\n",
              "<p>715 rows × 2 columns</p>\n",
              "</div>"
            ],
            "text/plain": [
              "       id  count\n",
              "0       0   37.0\n",
              "1       1  213.0\n",
              "2       2   83.0\n",
              "3       4   33.0\n",
              "4       5  114.0\n",
              "..    ...    ...\n",
              "710  2148   46.0\n",
              "711  2149   69.0\n",
              "712  2165   95.0\n",
              "713  2166  114.0\n",
              "714  2177   95.0\n",
              "\n",
              "[715 rows x 2 columns]"
            ]
          },
          "metadata": {
            "tags": []
          },
          "execution_count": 91
        }
      ]
    },
    {
      "cell_type": "code",
      "metadata": {
        "id": "pzXW0MYbJhHk"
      },
      "source": [
        "submission4.to_csv('test4.csv', index=False)"
      ],
      "execution_count": null,
      "outputs": []
    },
    {
      "cell_type": "code",
      "metadata": {
        "id": "Mn04sYrgJhJv"
      },
      "source": [
        ""
      ],
      "execution_count": null,
      "outputs": []
    }
  ]
}